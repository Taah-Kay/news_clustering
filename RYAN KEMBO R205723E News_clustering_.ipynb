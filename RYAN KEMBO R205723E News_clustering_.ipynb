{
 "cells": [
  {
   "cell_type": "code",
   "execution_count": 1,
   "metadata": {},
   "outputs": [],
   "source": [
    "# For data manipulation\n",
    "import pandas as pd\n",
    "import numpy as np\n",
    "\n",
    "# For data visualization\n",
    "import seaborn as sns\n",
    "from wordcloud import WordCloud\n",
    "import matplotlib.pyplot as plt\n",
    "\n",
    "# For NLP(text cleaning)\n",
    "import nltk\n",
    "import re\n",
    "from textblob import TextBlob\n",
    "from nltk.corpus import stopwords\n",
    "from nltk.stem.porter import PorterStemmer\n",
    "\n",
    "# For NLP(feature extraction)\n",
    "from sklearn.feature_extraction.text import TfidfVectorizer\n",
    "\n",
    "# For dimension reduction\n",
    "from sklearn.manifold import TSNE\n",
    "from sklearn.decomposition import TruncatedSVD\n",
    "\n",
    "# For clustering\n",
    "from sklearn.cluster import KMeans\n",
    "from sklearn.mixture import GaussianMixture\n",
    "from sklearn.cluster import DBSCAN, AgglomerativeClustering\n",
    "\n",
    "# For file handeling operations\n",
    "import os\n",
    "from glob import glob\n",
    "from tqdm import tqdm\n",
    "\n",
    "# To supress warnings\n",
    "import warnings\n",
    "warnings.filterwarnings(\"ignore\")"
   ]
  },
  {
   "cell_type": "code",
   "execution_count": 2,
   "metadata": {},
   "outputs": [],
   "source": [
    "sns.set_style(\"dark\")"
   ]
  },
  {
   "cell_type": "markdown",
   "metadata": {},
   "source": [
    "## Read the data"
   ]
  },
  {
   "cell_type": "code",
   "execution_count": 3,
   "metadata": {},
   "outputs": [],
   "source": [
    "# Absolute path of all the .txt files\n",
    "\n",
    "\n",
    "bbc_news = pd.read_csv(r\"C:\\Users\\taah\\Desktop\\news_clustering_data.csv\")\n",
    "\n",
    "cols = [1,2,3,5]\n",
    "bbc_news= bbc_news[bbc_news.columns[cols]]\n",
    "\n",
    "#news_articles = bbc_news[\"Text\"]\n",
    "\n"
   ]
  },
  {
   "cell_type": "code",
   "execution_count": 4,
   "metadata": {},
   "outputs": [
    {
     "data": {
      "text/html": [
       "<div>\n",
       "<style scoped>\n",
       "    .dataframe tbody tr th:only-of-type {\n",
       "        vertical-align: middle;\n",
       "    }\n",
       "\n",
       "    .dataframe tbody tr th {\n",
       "        vertical-align: top;\n",
       "    }\n",
       "\n",
       "    .dataframe thead th {\n",
       "        text-align: right;\n",
       "    }\n",
       "</style>\n",
       "<table border=\"1\" class=\"dataframe\">\n",
       "  <thead>\n",
       "    <tr style=\"text-align: right;\">\n",
       "      <th></th>\n",
       "      <th>Category</th>\n",
       "      <th>Content</th>\n",
       "      <th>Link</th>\n",
       "      <th>Title</th>\n",
       "    </tr>\n",
       "  </thead>\n",
       "  <tbody>\n",
       "    <tr>\n",
       "      <th>0</th>\n",
       "      <td>Business</td>\n",
       "      <td>As the world’s largest — and one of its most u...</td>\n",
       "      <td>https://www.aljazeera.com/economy/2024/5/8/a-n...</td>\n",
       "      <td>Should India take from the rich, give the poor...</td>\n",
       "    </tr>\n",
       "    <tr>\n",
       "      <th>1</th>\n",
       "      <td>Business</td>\n",
       "      <td>Air safety officials in the United States are ...</td>\n",
       "      <td>https://www.aljazeera.com/economy/2024/5/7/us-...</td>\n",
       "      <td>US officials probe allegations Boeing workers ...</td>\n",
       "    </tr>\n",
       "    <tr>\n",
       "      <th>2</th>\n",
       "      <td>Business</td>\n",
       "      <td>– When Aamir Dhedhi took his mother to India i...</td>\n",
       "      <td>https://www.aljazeera.com/news/2024/5/8/pakist...</td>\n",
       "      <td>Pakistan bets on a cannabis high as its econom...</td>\n",
       "    </tr>\n",
       "    <tr>\n",
       "      <th>3</th>\n",
       "      <td>Business</td>\n",
       "      <td>Amazon has announced plans to invest $9bn in S...</td>\n",
       "      <td>https://www.aljazeera.com/economy/2024/5/7/ama...</td>\n",
       "      <td>Amazon to invest $9bn in Singapore to expand c...</td>\n",
       "    </tr>\n",
       "    <tr>\n",
       "      <th>4</th>\n",
       "      <td>Business</td>\n",
       "      <td>Elon Musk suggested testing Tesla’s full self-...</td>\n",
       "      <td>https://www.aljazeera.com/economy/2024/5/8/elo...</td>\n",
       "      <td>Elon Musk floated robotaxi launch in China, Ch...</td>\n",
       "    </tr>\n",
       "    <tr>\n",
       "      <th>...</th>\n",
       "      <td>...</td>\n",
       "      <td>...</td>\n",
       "      <td>...</td>\n",
       "      <td>...</td>\n",
       "    </tr>\n",
       "    <tr>\n",
       "      <th>158</th>\n",
       "      <td>Sports</td>\n",
       "      <td>Denver Nuggets star Nikola Jokic was named the...</td>\n",
       "      <td>https://www.nbcnews.com/news/sports/nuggets-st...</td>\n",
       "      <td>Nuggets star Nikola Jokic wins 2024 NBA MVP aw...</td>\n",
       "    </tr>\n",
       "    <tr>\n",
       "      <th>159</th>\n",
       "      <td>Sports</td>\n",
       "      <td>INDIANAPOLIS — Indianapolis police announced W...</td>\n",
       "      <td>https://www.nbcnews.com/news/sports/milwaukee-...</td>\n",
       "      <td>Police investigating after Milwaukee Bucks pla...</td>\n",
       "    </tr>\n",
       "    <tr>\n",
       "      <th>160</th>\n",
       "      <td>Sports</td>\n",
       "      <td>An Indianapolis sports columnist will not be c...</td>\n",
       "      <td>https://www.nbcnews.com/news/us-news/indystar-...</td>\n",
       "      <td>IndyStar columnist won't cover Caitlin Clark a...</td>\n",
       "    </tr>\n",
       "    <tr>\n",
       "      <th>161</th>\n",
       "      <td>Sports</td>\n",
       "      <td>Three-time  , 34, is making his way from   to ...</td>\n",
       "      <td>https://www.nbcnews.com/pop-culture/pop-cultur...</td>\n",
       "      <td>Travis Kelce lands first major acting role in ...</td>\n",
       "    </tr>\n",
       "    <tr>\n",
       "      <th>162</th>\n",
       "      <td>Sports</td>\n",
       "      <td>The former translator for   has  to illegally ...</td>\n",
       "      <td>https://www.nbcnews.com/news/sports/shohei-oht...</td>\n",
       "      <td>Shohei Ohtani's ex-translator to plead guilty ...</td>\n",
       "    </tr>\n",
       "  </tbody>\n",
       "</table>\n",
       "<p>163 rows × 4 columns</p>\n",
       "</div>"
      ],
      "text/plain": [
       "     Category                                            Content  \\\n",
       "0    Business  As the world’s largest — and one of its most u...   \n",
       "1    Business  Air safety officials in the United States are ...   \n",
       "2    Business  – When Aamir Dhedhi took his mother to India i...   \n",
       "3    Business  Amazon has announced plans to invest $9bn in S...   \n",
       "4    Business  Elon Musk suggested testing Tesla’s full self-...   \n",
       "..        ...                                                ...   \n",
       "158    Sports  Denver Nuggets star Nikola Jokic was named the...   \n",
       "159    Sports  INDIANAPOLIS — Indianapolis police announced W...   \n",
       "160    Sports  An Indianapolis sports columnist will not be c...   \n",
       "161    Sports  Three-time  , 34, is making his way from   to ...   \n",
       "162    Sports  The former translator for   has  to illegally ...   \n",
       "\n",
       "                                                  Link  \\\n",
       "0    https://www.aljazeera.com/economy/2024/5/8/a-n...   \n",
       "1    https://www.aljazeera.com/economy/2024/5/7/us-...   \n",
       "2    https://www.aljazeera.com/news/2024/5/8/pakist...   \n",
       "3    https://www.aljazeera.com/economy/2024/5/7/ama...   \n",
       "4    https://www.aljazeera.com/economy/2024/5/8/elo...   \n",
       "..                                                 ...   \n",
       "158  https://www.nbcnews.com/news/sports/nuggets-st...   \n",
       "159  https://www.nbcnews.com/news/sports/milwaukee-...   \n",
       "160  https://www.nbcnews.com/news/us-news/indystar-...   \n",
       "161  https://www.nbcnews.com/pop-culture/pop-cultur...   \n",
       "162  https://www.nbcnews.com/news/sports/shohei-oht...   \n",
       "\n",
       "                                                 Title  \n",
       "0    Should India take from the rich, give the poor...  \n",
       "1    US officials probe allegations Boeing workers ...  \n",
       "2    Pakistan bets on a cannabis high as its econom...  \n",
       "3    Amazon to invest $9bn in Singapore to expand c...  \n",
       "4    Elon Musk floated robotaxi launch in China, Ch...  \n",
       "..                                                 ...  \n",
       "158  Nuggets star Nikola Jokic wins 2024 NBA MVP aw...  \n",
       "159  Police investigating after Milwaukee Bucks pla...  \n",
       "160  IndyStar columnist won't cover Caitlin Clark a...  \n",
       "161  Travis Kelce lands first major acting role in ...  \n",
       "162  Shohei Ohtani's ex-translator to plead guilty ...  \n",
       "\n",
       "[163 rows x 4 columns]"
      ]
     },
     "execution_count": 4,
     "metadata": {},
     "output_type": "execute_result"
    }
   ],
   "source": [
    "bbc_news"
   ]
  },
  {
   "cell_type": "code",
   "execution_count": 5,
   "metadata": {},
   "outputs": [],
   "source": [
    "news_articles = bbc_news[\"Content\"]"
   ]
  },
  {
   "cell_type": "code",
   "execution_count": 6,
   "metadata": {},
   "outputs": [
    {
     "data": {
      "text/plain": [
       "'As the world’s largest — and one of its most unequal — democracies votes in a mammoth national election, a new debate has gripped the campaigns of both Prime Minister Narendra Modi’s ruling Bharatiya Janata Party (BJP) and the opposition Congress party. At the heart of this latest political slugfest is the idea of a potential redistribution of wealth. But while the Congress party has alluded to the need for some resources to be reallocated to traditional marginalised economic and caste-based communities, Modi and the BJP have accused the opposition of plotting to hand over wealth from Hindu households to Muslims. So what’s the controversy about and what do economists say about the proposals for a relook at India’s wealth distribution? In April, Rahul Gandhi, a scion of the Nehru-Gandhi political dynasty, said if voted to office, his Congress party would conduct a caste census along with an economic and institutional survey to determine who owns what and earns how much. Following this, a portion of the 16 trillion rupees ($192bn) of benefits given to 22 big Businessmen by the Modi government would be transferred to 90 percent of the country’s people, as a starting point for delivering social justice, he said. Gandhi described the caste census as an “X-ray” into Indian society. “This is not a political issue for me, this is my life mission,” Gandhi said. “You can write down; no force can stop the caste census.’’ The Congress party manifesto doesn’t talk directly about redistribution of wealth.\\xa0 It says, “We will address the growing inequality of wealth and income through suitable changes in policies.’’\\xa0 On the caste-based census, it says, “Congress will conduct a nation-wide Socio-Economic and Caste Census to enumerate the castes and sub-castes and their socio-economic conditions. Based on the data, we will strengthen the agenda for affirmative action.” Yet, responding to Gandhi’s speech, Modi has been repeating in election rallies that the Congress party has hatched a “deep conspiracy’’ to snatch the wealth of people and gold of Hindu women to distribute it among Muslims, whom he described as “infiltrators” and “those who have more children”. The opposition has accused Modi of resorting to “lies” and “hate speech” to distract people from high unemployment and rising prices, and has complained to the election commission. India is the fastest-growing major economy in the world, but also suffers from deepening inequality. Numerous studies have shown that the benefits of India’s brisk growth have been unevenly distributed. A new study by researchers at the World Inequality Lab shows that income and wealth inequality in India today is, in many ways, worse than it was even under British colonial rule. India’s richest 1 percent control 22.6 percent of national income and more than 40 percent of the country’s wealth. Meanwhile, the bottom 50 percent control less than 10 percent of national wealth. Inequality was worsened over the past decade of Modi’s rule. India has   third behind only China and the US — and world’s highest number of poor at 228.9 million, according to  . The Congress party has accused the Modi government of ‘crony capitalism’ and favouring certain Businesses in government contracts. The government has denied the accusations saying it has not favoured companies and has instead invested in welfare programmes to improve the lives of the poor. Experts say India’s inequality is the result of the prevailing economic and political system. Even as both governments of the BJP and the Congress have launched reforms and pushed for economic growth over the past three decades, they have failed to generate enough employment, check inflation, and move the workforce from low-income farming to well-paying non-farm jobs, resulting in high inequality of wealth and income. There is no one view among economists. Those against the idea say redistribution will be counterproductive by taking capital from wealth generators thereby handicapping and disincentivising them to contribute to the economy. But others argue that redistribution is required not only in wealth but also in opportunities like education, healthcare, access to financial resources, water and energy, which will boost poor people’s capacity to generate income and reduce inequality in the long run. Redistribution of income and wealth is a very good idea in contemporary India, said Deepankar Basu, economics professor at the University of Massachusetts Amherst. “The high and rising level of economic inequality suggests that the economic system does not work equally for all. The wealth and income being generated by the system is predominantly being cornered by the rich,” said Basu. “Not only does this have economic implications, but it also distorts the democratic process — extreme wealth inequality allows the super-wealthy to disproportionately influence the political process through various channels like campaign contributions and donations to political parties. This erodes the democratic system of governance.’’ Devashish Mitra, professor of economics, Maxwell School of Citizenship and Public Affairs, Syracuse University, New York, agreed that some wealth distribution “might not be a bad idea”. “But it is a politically contentious issue, and there might be political problems in enacting any kind of means to redistribute wealth,’’ Mitra acknowledged. One solution, Mitra said, might be to combine wealth redistribution with “some reduction in income taxes”. That would partially compensate for the wealth redistribution. “Then, we will have a combination of wealth taxes and income taxes that could lead to both greater equity and greater efficiency than in the current situation,’’ he said. The Congress is arguing that data from a caste-based census will help with the implementation of welfare and social security schemes. The party has promised to raise a Supreme Court-mandated cap on reservations in higher education and government jobs for underprivileged groups called Scheduled Castes (SC), Scheduled Tribes (ST) and Other Backward Classes (OBCs). If successful, this political pitch could in theory help the Congress break the BJP’s growing stranglehold over the Hindu vote across castes and sub-communities. Modi, in turn, has responded by alleging that the Congress wants to give Muslims benefits that are meant to be allocated on caste — not religious — lines. He has cited a 2006 speech by then Congress Prime Minister Manmohan Singh where he said disadvantaged communities and religious minorities, including Muslims, should have the first claim on national resources. The Congress has insisted that it has no wealth redistribution plan, and that Singh’s 2006 comments had been misinterpreted. In an April 24 television interview, Sam Pitroda, an adviser to the Nehru-Gandhi family and head of the overseas wing of the Congress party, added another twist to the debate by arguing that India should debate whether an inheritance tax might help reduce wealth inequality. Modi has responded by accusing the Congress of plotting a wealth and inheritance tax that would snatch away people’s wealth accumulated through hard work. The Congress, he said, aims to loot people “zindagi ke saath bhi aur zindagi ke baad bhi” (in life, and after death), echoing the popular tagline of the state-owned Life Insurance Corporation. अब कांग्रेस का कहना है कि वो Inheritance Tax लगाएगी, माता-पिता से मिलने वाली विरासत पर भी टैक्स लगाएगी। आप जो अपनी मेहनत से संपत्ति जुटाते हैं, वो आपके बच्चों को नहीं मिलेगी। कांग्रेस का पंजा वो भी आपसे लूट लेगा।   कांग्रेस का मंत्र है- कांग्रेस की लूट… जिंदगी के साथ भी,…  — BJP (@BJP4India)  The Congress party distanced itself from Pitroda comments by saying his view does not reflect the position of the party. Jairam Ramesh, a spokesman of the Congress party, referred to past comments by BJP ministers in favour of an inheritance tax. Modi has clarified that the BJP has no intention to bring such a tax. An inheritance tax, also known as estate tax or death duty in some countries, is a levy imposed on the total value of money and property of a deceased person before it is passed on to their heirs. Generally, this tax is determined by assessing the value of the assets remaining after certain exemptions or deductions. Essentially, the government collects a share of the wealth transferred from the deceased to their beneficiaries. Globally, inheritance taxes are widespread in nations including the UK, Japan, France, and Finland. The United States does not impose an inheritance tax at the federal level, though it has an estate tax. However, six states independently retain inheritance tax regimes. There is no estate duty or inheritance tax payable in India. Estate duty on property that is passed on to the legal heirs on the death of a person was removed in 1985 by the then Congress government of Rajiv Gandhi — Rahul’s father — citing the need to simplify the tax system and promote investment and saving. However, other taxes such as capital gains tax, wealth tax, and gift tax are applied to inheritances depending on the circumstances. Before the removal, estate duty was payable on a slab basis ranging approximately from 7.5 percent to 40 percent of the principal value of the estate. This estate tax was introduced in 1953 in a bid to reduce economic inequality. In recent years, worldwide, there has been a trend towards scrapping estate or inheritance tax. Five European countries have   their estate or inheritance taxes since 2000. On the other hand, US President Joe Biden has been supporting higher   on inherited wealth. Finance Minister Nirmala Sitharaman has said inheritance tax could nullify India’s decade of progress. Raghuram Rajan, former governor of the Reserve Bank of India has said that while inclusive growth will aid in the expansion of the economy, taxing the rich more is not the way to do that. Other economists back an inheritance tax. “An inheritance tax will make the whole economic system fairer by redistributing some of the accumulated wealth away from the children of wealthy people,’’ said Basu. “These tax revenues can then be used to finance public education, provide public healthcare and affordable housing, and support mitigation efforts related to the negative effects of climate change, which disproportionately impacts the poor.’’ Syracuse University’s Mitra said that while an inheritance tax might make some economic sense, he sees “enormous scope for corruption, stemming from the subjectivity in the valuation of inheritances and the unlimited scope in misreporting the actual value of inheritances”. Progressive taxation and greater social spending could be other solutions to  . A greater emphasis on   such as capital income taxation, net wealth taxation, and transfer taxation would generate tax revenue that could allow greater investment in health, education and infrastructure. “There are many policies that can be adopted to address rising economic inequality in India,’’ said Basu. “These include increasing the tax rate for the top 1 percent of income earners, increasing the corporate tax rate on relatively large firms, improving educational opportunities and making them accessible for the poor.’’'"
      ]
     },
     "execution_count": 6,
     "metadata": {},
     "output_type": "execute_result"
    }
   ],
   "source": [
    "news_articles[0]"
   ]
  },
  {
   "cell_type": "code",
   "execution_count": 7,
   "metadata": {},
   "outputs": [],
   "source": [
    "# Create a stemmer object which will be used to stem all the words to its root\n",
    "ps = PorterStemmer()"
   ]
  },
  {
   "cell_type": "markdown",
   "metadata": {},
   "source": [
    "## Cleaning the Data"
   ]
  },
  {
   "cell_type": "code",
   "execution_count": 8,
   "metadata": {},
   "outputs": [
    {
     "name": "stderr",
     "output_type": "stream",
     "text": [
      "[nltk_data] Downloading package stopwords to\n",
      "[nltk_data]     C:\\Users\\taah\\AppData\\Roaming\\nltk_data...\n",
      "[nltk_data]   Package stopwords is already up-to-date!\n",
      "100%|\u001b[33m██████████\u001b[0m| 163/163 [00:25<00:00,  6.30it/s]\n"
     ]
    }
   ],
   "source": [
    "# Empty list to store the clean text\n",
    "nltk.download('stopwords')\n",
    "\n",
    "clean_articles = []\n",
    "\n",
    "for article in tqdm(news_articles, colour='yellow'):\n",
    "    # Replace the end lines <\\n>\n",
    "    article = article.replace(\"\\\\n\",'')\n",
    "    \n",
    "    # Remove all excepth the alphabets\n",
    "    article = re.sub(\"[^a-zA-Z]\",' ', article)\n",
    "    \n",
    "    # Lower all the aplhabets\n",
    "    article = article.lower()\n",
    "    \n",
    "    # Split the article on spaces, returning a list of words\n",
    "    words = article.split()\n",
    "    \n",
    "   # Remove stopwords\n",
    "    clean_article = [ps.stem(word) for word in words if not word in stopwords.words(\"english\")]\n",
    "    \n",
    "    # Join clean words\n",
    "    clean_article = \" \".join(clean_article)\n",
    "    \n",
    "    # Append the news\n",
    "    clean_articles.append(clean_article)\n"
   ]
  },
  {
   "cell_type": "code",
   "execution_count": 9,
   "metadata": {},
   "outputs": [
    {
     "data": {
      "text/plain": [
       "'world largest one unequ democraci vote mammoth nation elect new debat grip campaign prime minist narendra modi rule bharatiya janata parti bjp opposit congress parti heart latest polit slugfest idea potenti redistribut wealth congress parti allud need resourc realloc tradit marginalis econom cast base commun modi bjp accus opposit plot hand wealth hindu household muslim controversi economist say propos relook india wealth distribut april rahul gandhi scion nehru gandhi polit dynasti said vote offic congress parti would conduct cast censu along econom institut survey determin own earn much follow portion trillion rupe bn benefit given big businessmen modi govern would transfer percent countri peopl start point deliv social justic said gandhi describ cast censu x ray indian societi polit issu life mission gandhi said write forc stop cast censu congress parti manifesto talk directli redistribut wealth say address grow inequ wealth incom suitabl chang polici cast base censu say congress conduct nation wide socio econom cast censu enumer cast sub cast socio econom condit base data strengthen agenda affirm action yet respond gandhi speech modi repeat elect ralli congress parti hatch deep conspiraci snatch wealth peopl gold hindu women distribut among muslim describ infiltr children opposit accus modi resort lie hate speech distract peopl high unemploy rise price complain elect commiss india fastest grow major economi world also suffer deepen inequ numer studi shown benefit india brisk growth unevenli distribut new studi research world inequ lab show incom wealth inequ india today mani way wors even british coloni rule india richest percent control percent nation incom percent countri wealth meanwhil bottom percent control less percent nation wealth inequ worsen past decad modi rule india third behind china us world highest number poor million accord congress parti accus modi govern croni capit favour certain busi govern contract govern deni accus say favour compani instead invest welfar programm improv live poor expert say india inequ result prevail econom polit system even govern bjp congress launch reform push econom growth past three decad fail gener enough employ check inflat move workforc low incom farm well pay non farm job result high inequ wealth incom one view among economist idea say redistribut counterproduct take capit wealth gener therebi handicap disincentivis contribut economi other argu redistribut requir wealth also opportun like educ healthcar access financi resourc water energi boost poor peopl capac gener incom reduc inequ long run redistribut incom wealth good idea contemporari india said deepankar basu econom professor univers massachusett amherst high rise level econom inequ suggest econom system work equal wealth incom gener system predominantli corner rich said basu econom implic also distort democrat process extrem wealth inequ allow super wealthi disproportion influenc polit process variou channel like campaign contribut donat polit parti erod democrat system govern devashish mitra professor econom maxwel school citizenship public affair syracus univers new york agre wealth distribut might bad idea polit contenti issu might polit problem enact kind mean redistribut wealth mitra acknowledg one solut mitra said might combin wealth redistribut reduct incom tax would partial compens wealth redistribut combin wealth tax incom tax could lead greater equiti greater effici current situat said congress argu data cast base censu help implement welfar social secur scheme parti promis rais suprem court mandat cap reserv higher educ govern job underprivileg group call schedul cast sc schedul tribe st backward class obc success polit pitch could theori help congress break bjp grow stranglehold hindu vote across cast sub commun modi turn respond alleg congress want give muslim benefit meant alloc cast religi line cite speech congress prime minist manmohan singh said disadvantag commun religi minor includ muslim first claim nation resourc congress insist wealth redistribut plan singh comment misinterpret april televis interview sam pitroda advis nehru gandhi famili head oversea wing congress parti ad anoth twist debat argu india debat whether inherit tax might help reduc wealth inequ modi respond accus congress plot wealth inherit tax would snatch away peopl wealth accumul hard work congress said aim loot peopl zindagi ke saath bhi aur zindagi ke baad bhi life death echo popular taglin state own life insur corpor inherit tax bjp bjp india congress parti distanc pitroda comment say view reflect posit parti jairam ramesh spokesman congress parti refer past comment bjp minist favour inherit tax modi clarifi bjp intent bring tax inherit tax also known estat tax death duti countri levi impos total valu money properti deceas person pass heir gener tax determin assess valu asset remain certain exempt deduct essenti govern collect share wealth transfer deceas beneficiari global inherit tax widespread nation includ uk japan franc finland unit state impos inherit tax feder level though estat tax howev six state independ retain inherit tax regim estat duti inherit tax payabl india estat duti properti pass legal heir death person remov congress govern rajiv gandhi rahul father cite need simplifi tax system promot invest save howev tax capit gain tax wealth tax gift tax appli inherit depend circumst remov estat duti payabl slab basi rang approxim percent percent princip valu estat estat tax introduc bid reduc econom inequ recent year worldwid trend toward scrap estat inherit tax five european countri estat inherit tax sinc hand us presid joe biden support higher inherit wealth financ minist nirmala sitharaman said inherit tax could nullifi india decad progress raghuram rajan former governor reserv bank india said inclus growth aid expans economi tax rich way economist back inherit tax inherit tax make whole econom system fairer redistribut accumul wealth away children wealthi peopl said basu tax revenu use financ public educ provid public healthcar afford hous support mitig effort relat neg effect climat chang disproportion impact poor syracus univers mitra said inherit tax might make econom sens see enorm scope corrupt stem subject valuat inherit unlimit scope misreport actual valu inherit progress taxat greater social spend could solut greater emphasi capit incom taxat net wealth taxat transfer taxat would gener tax revenu could allow greater invest health educ infrastructur mani polici adopt address rise econom inequ india said basu includ increas tax rate top percent incom earner increas corpor tax rate rel larg firm improv educ opportun make access poor'"
      ]
     },
     "execution_count": 9,
     "metadata": {},
     "output_type": "execute_result"
    }
   ],
   "source": [
    "clean_articles[0]"
   ]
  },
  {
   "cell_type": "markdown",
   "metadata": {},
   "source": [
    "## Vectorizing text"
   ]
  },
  {
   "cell_type": "code",
   "execution_count": 10,
   "metadata": {},
   "outputs": [],
   "source": [
    "# Initialize a vectorizer object\n",
    "tfidf = TfidfVectorizer()\n",
    "\n",
    "# Fit transform the clean article to create vectors\n",
    "article_vectors = tfidf.fit_transform(clean_articles)"
   ]
  },
  {
   "cell_type": "markdown",
   "metadata": {},
   "source": [
    "## Dimensionality reduction"
   ]
  },
  {
   "cell_type": "code",
   "execution_count": 11,
   "metadata": {},
   "outputs": [],
   "source": [
    "# Initialize a SVD object\n",
    "svd = TruncatedSVD(2000)\n",
    "\n",
    "# Transform the data\n",
    "reduced_articles = svd.fit_transform(article_vectors)"
   ]
  },
  {
   "cell_type": "markdown",
   "metadata": {},
   "source": [
    "## KMEANS Clustering"
   ]
  },
  {
   "cell_type": "code",
   "execution_count": 49,
   "metadata": {},
   "outputs": [
    {
     "name": "stderr",
     "output_type": "stream",
     "text": [
      "100%|\u001b[33m██████████\u001b[0m| 8/8 [00:00<00:00, 136.81it/s]\n"
     ]
    }
   ],
   "source": [
    "# To store sum  of squared distances for each number of cluster\n",
    "SSD = []\n",
    "\n",
    "# For each number of cluster k\n",
    "for k in tqdm(range(2,10), colour='yellow'):\n",
    "    # Initialize a model\n",
    "    km = KMeans(n_clusters=k)\n",
    "    # Fit the model\n",
    "    km = km.fit(reduced_articles)\n",
    "    # Append the sum of squared distances\n",
    "    SSD.append(km.inertia_)"
   ]
  },
  {
   "cell_type": "code",
   "execution_count": 50,
   "metadata": {},
   "outputs": [
    {
     "data": {
      "image/png": "[encoded data removed]",
      "text/plain": [
       "<Figure size 1000x800 with 1 Axes>"
      ]
     },
     "metadata": {},
     "output_type": "display_data"
    }
   ],
   "source": [
    "# Ploting an elbow plot (Num of clusters VS Sum of squared distances)\n",
    "plt.figure(figsize=(10,8))\n",
    "plt.title(\"Elbow Plot To Visually Select The Optimal K For Clustering\")\n",
    "plt.plot(range(2,10),SSD,'bx-')\n",
    "plt.xlabel(\"Number Of Cluster\")\n",
    "plt.ylabel(\"SSD\")\n",
    "plt.show()"
   ]
  },
  {
   "cell_type": "code",
   "execution_count": 51,
   "metadata": {},
   "outputs": [],
   "source": [
    "# Initialize the model\n",
    "kmeans = KMeans(n_clusters=5)\n",
    "\n",
    "# Fit on the data\n",
    "kmeans.fit(reduced_articles)\n",
    "\n",
    "# Get the labels\n",
    "labels = kmeans.labels_"
   ]
  },
  {
   "cell_type": "code",
   "execution_count": 52,
   "metadata": {},
   "outputs": [],
   "source": [
    "bbc_news[\"clusters\"] = labels"
   ]
  },
  {
   "cell_type": "code",
   "execution_count": 53,
   "metadata": {},
   "outputs": [
    {
     "data": {
      "text/plain": [
       "clusters\n",
       "4    64\n",
       "3    43\n",
       "1    38\n",
       "2    17\n",
       "0     1\n",
       "Name: count, dtype: int64"
      ]
     },
     "execution_count": 53,
     "metadata": {},
     "output_type": "execute_result"
    }
   ],
   "source": [
    "bbc_news['clusters'].value_counts()\n"
   ]
  },
  {
   "cell_type": "code",
   "execution_count": 54,
   "metadata": {},
   "outputs": [
    {
     "data": {
      "text/html": [
       "<div>\n",
       "<style scoped>\n",
       "    .dataframe tbody tr th:only-of-type {\n",
       "        vertical-align: middle;\n",
       "    }\n",
       "\n",
       "    .dataframe tbody tr th {\n",
       "        vertical-align: top;\n",
       "    }\n",
       "\n",
       "    .dataframe thead th {\n",
       "        text-align: right;\n",
       "    }\n",
       "</style>\n",
       "<table border=\"1\" class=\"dataframe\">\n",
       "  <thead>\n",
       "    <tr style=\"text-align: right;\">\n",
       "      <th></th>\n",
       "      <th>Category</th>\n",
       "      <th>Content</th>\n",
       "      <th>Link</th>\n",
       "      <th>Title</th>\n",
       "      <th>clusters</th>\n",
       "    </tr>\n",
       "  </thead>\n",
       "  <tbody>\n",
       "    <tr>\n",
       "      <th>0</th>\n",
       "      <td>Business</td>\n",
       "      <td>As the world’s largest — and one of its most u...</td>\n",
       "      <td>https://www.aljazeera.com/economy/2024/5/8/a-n...</td>\n",
       "      <td>Should India take from the rich, give the poor...</td>\n",
       "      <td>1</td>\n",
       "    </tr>\n",
       "    <tr>\n",
       "      <th>1</th>\n",
       "      <td>Business</td>\n",
       "      <td>Air safety officials in the United States are ...</td>\n",
       "      <td>https://www.aljazeera.com/economy/2024/5/7/us-...</td>\n",
       "      <td>US officials probe allegations Boeing workers ...</td>\n",
       "      <td>4</td>\n",
       "    </tr>\n",
       "    <tr>\n",
       "      <th>2</th>\n",
       "      <td>Business</td>\n",
       "      <td>– When Aamir Dhedhi took his mother to India i...</td>\n",
       "      <td>https://www.aljazeera.com/news/2024/5/8/pakist...</td>\n",
       "      <td>Pakistan bets on a cannabis high as its econom...</td>\n",
       "      <td>1</td>\n",
       "    </tr>\n",
       "    <tr>\n",
       "      <th>3</th>\n",
       "      <td>Business</td>\n",
       "      <td>Amazon has announced plans to invest $9bn in S...</td>\n",
       "      <td>https://www.aljazeera.com/economy/2024/5/7/ama...</td>\n",
       "      <td>Amazon to invest $9bn in Singapore to expand c...</td>\n",
       "      <td>4</td>\n",
       "    </tr>\n",
       "    <tr>\n",
       "      <th>4</th>\n",
       "      <td>Business</td>\n",
       "      <td>Elon Musk suggested testing Tesla’s full self-...</td>\n",
       "      <td>https://www.aljazeera.com/economy/2024/5/8/elo...</td>\n",
       "      <td>Elon Musk floated robotaxi launch in China, Ch...</td>\n",
       "      <td>1</td>\n",
       "    </tr>\n",
       "    <tr>\n",
       "      <th>...</th>\n",
       "      <td>...</td>\n",
       "      <td>...</td>\n",
       "      <td>...</td>\n",
       "      <td>...</td>\n",
       "      <td>...</td>\n",
       "    </tr>\n",
       "    <tr>\n",
       "      <th>158</th>\n",
       "      <td>Sports</td>\n",
       "      <td>Denver Nuggets star Nikola Jokic was named the...</td>\n",
       "      <td>https://www.nbcnews.com/news/sports/nuggets-st...</td>\n",
       "      <td>Nuggets star Nikola Jokic wins 2024 NBA MVP aw...</td>\n",
       "      <td>2</td>\n",
       "    </tr>\n",
       "    <tr>\n",
       "      <th>159</th>\n",
       "      <td>Sports</td>\n",
       "      <td>INDIANAPOLIS — Indianapolis police announced W...</td>\n",
       "      <td>https://www.nbcnews.com/news/sports/milwaukee-...</td>\n",
       "      <td>Police investigating after Milwaukee Bucks pla...</td>\n",
       "      <td>2</td>\n",
       "    </tr>\n",
       "    <tr>\n",
       "      <th>160</th>\n",
       "      <td>Sports</td>\n",
       "      <td>An Indianapolis sports columnist will not be c...</td>\n",
       "      <td>https://www.nbcnews.com/news/us-news/indystar-...</td>\n",
       "      <td>IndyStar columnist won't cover Caitlin Clark a...</td>\n",
       "      <td>2</td>\n",
       "    </tr>\n",
       "    <tr>\n",
       "      <th>161</th>\n",
       "      <td>Sports</td>\n",
       "      <td>Three-time  , 34, is making his way from   to ...</td>\n",
       "      <td>https://www.nbcnews.com/pop-culture/pop-cultur...</td>\n",
       "      <td>Travis Kelce lands first major acting role in ...</td>\n",
       "      <td>3</td>\n",
       "    </tr>\n",
       "    <tr>\n",
       "      <th>162</th>\n",
       "      <td>Sports</td>\n",
       "      <td>The former translator for   has  to illegally ...</td>\n",
       "      <td>https://www.nbcnews.com/news/sports/shohei-oht...</td>\n",
       "      <td>Shohei Ohtani's ex-translator to plead guilty ...</td>\n",
       "      <td>4</td>\n",
       "    </tr>\n",
       "  </tbody>\n",
       "</table>\n",
       "<p>163 rows × 5 columns</p>\n",
       "</div>"
      ],
      "text/plain": [
       "     Category                                            Content  \\\n",
       "0    Business  As the world’s largest — and one of its most u...   \n",
       "1    Business  Air safety officials in the United States are ...   \n",
       "2    Business  – When Aamir Dhedhi took his mother to India i...   \n",
       "3    Business  Amazon has announced plans to invest $9bn in S...   \n",
       "4    Business  Elon Musk suggested testing Tesla’s full self-...   \n",
       "..        ...                                                ...   \n",
       "158    Sports  Denver Nuggets star Nikola Jokic was named the...   \n",
       "159    Sports  INDIANAPOLIS — Indianapolis police announced W...   \n",
       "160    Sports  An Indianapolis sports columnist will not be c...   \n",
       "161    Sports  Three-time  , 34, is making his way from   to ...   \n",
       "162    Sports  The former translator for   has  to illegally ...   \n",
       "\n",
       "                                                  Link  \\\n",
       "0    https://www.aljazeera.com/economy/2024/5/8/a-n...   \n",
       "1    https://www.aljazeera.com/economy/2024/5/7/us-...   \n",
       "2    https://www.aljazeera.com/news/2024/5/8/pakist...   \n",
       "3    https://www.aljazeera.com/economy/2024/5/7/ama...   \n",
       "4    https://www.aljazeera.com/economy/2024/5/8/elo...   \n",
       "..                                                 ...   \n",
       "158  https://www.nbcnews.com/news/sports/nuggets-st...   \n",
       "159  https://www.nbcnews.com/news/sports/milwaukee-...   \n",
       "160  https://www.nbcnews.com/news/us-news/indystar-...   \n",
       "161  https://www.nbcnews.com/pop-culture/pop-cultur...   \n",
       "162  https://www.nbcnews.com/news/sports/shohei-oht...   \n",
       "\n",
       "                                                 Title  clusters  \n",
       "0    Should India take from the rich, give the poor...         1  \n",
       "1    US officials probe allegations Boeing workers ...         4  \n",
       "2    Pakistan bets on a cannabis high as its econom...         1  \n",
       "3    Amazon to invest $9bn in Singapore to expand c...         4  \n",
       "4    Elon Musk floated robotaxi launch in China, Ch...         1  \n",
       "..                                                 ...       ...  \n",
       "158  Nuggets star Nikola Jokic wins 2024 NBA MVP aw...         2  \n",
       "159  Police investigating after Milwaukee Bucks pla...         2  \n",
       "160  IndyStar columnist won't cover Caitlin Clark a...         2  \n",
       "161  Travis Kelce lands first major acting role in ...         3  \n",
       "162  Shohei Ohtani's ex-translator to plead guilty ...         4  \n",
       "\n",
       "[163 rows x 5 columns]"
      ]
     },
     "execution_count": 54,
     "metadata": {},
     "output_type": "execute_result"
    }
   ],
   "source": [
    "bbc_news"
   ]
  },
  {
   "cell_type": "code",
   "execution_count": 55,
   "metadata": {},
   "outputs": [],
   "source": [
    "#saving as a pickle \n",
    "import pickle\n",
    "with open('kmeans_model.pkl', 'wb') as f:\n",
    "    pickle.dump(kmeans, f)"
   ]
  },
  {
   "cell_type": "code",
   "execution_count": null,
   "metadata": {},
   "outputs": [],
   "source": []
  }
 ],
 "metadata": {
  "kernelspec": {
   "display_name": "Python 3",
   "language": "python",
   "name": "python3"
  },
  "language_info": {
   "codemirror_mode": {
    "name": "ipython",
    "version": 3
   },
   "file_extension": ".py",
   "mimetype": "text/x-python",
   "name": "python",
   "nbconvert_exporter": "python",
   "pygments_lexer": "ipython3",
   "version": "3.11.2"
  }
 },
 "nbformat": 4,
 "nbformat_minor": 2
}
